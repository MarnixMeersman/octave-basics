{
 "cells": [
  {
   "cell_type": "markdown",
   "id": "72397c20",
   "metadata": {},
   "source": [
    "# A short Intro to OCTAVE\n",
    "*Stefan Wallner – 2025*"
   ]
  },
  {
   "cell_type": "markdown",
   "id": "a508983e",
   "metadata": {},
   "source": [
    "## What is Octave?  Where can I get it?\n",
    "\n",
    "* Octave is  \n",
    "  * a **high‑level programming language** suited for scientific and numerical computations  \n",
    "  * **Free software** under terms of GNU General Public License  \n",
    "  * **Largely compatible** to commercial MathWorks MATLAB software  \n",
    "* Octave does provide you with the environment for  \n",
    "  * **Programming and algorithm development**  \n",
    "  * **Numerical simulations**  \n",
    "  * **Visualization in 2 D and 3 D**"
   ]
  },
  {
   "cell_type": "markdown",
   "id": "92e7bb66",
   "metadata": {},
   "source": [
    "## Numbers as Variables\n",
    "\n",
    "* **Numbers in Variables**  \n",
    "  * You do **not** need to worry about *Boolean, Integer, Double, Float, Complex, …*  \n",
    "  * You **do** tell Octave *what* you want to store in a variable  \n",
    "* **Matrices · Vectors · Scalars**  \n",
    "  * You can store all numbers in **matrix variables**  \n",
    "  * **Vectors** are matrices with a single column *(column vector)* or single row *(row vector)*  \n",
    "  * **Scalars** are **1 × 1** matrices  \n",
    "* **Example: Let’s generate a matrix**"
   ]
  },
  {
   "cell_type": "code",
   "execution_count": null,
   "id": "a340f0b1",
   "metadata": {},
   "outputs": [],
   "source": [
    "A = [1 2 3; 4 5 6; 7 8 9]\n",
    "\n",
    "% If you do not want the content displayed immediately,\n",
    "% terminate the line with a semicolon:\n",
    "B = A.';     % transpose of A, no echo"
   ]
  },
  {
   "cell_type": "markdown",
   "id": "1b84ec3c",
   "metadata": {},
   "source": [
    "## Strings as Variables\n",
    "\n",
    "* **Strings in Variables**  \n",
    "  * Put the string in single quotes  \n",
    "* **Example: Let’s generate a string**"
   ]
  },
  {
   "cell_type": "code",
   "execution_count": null,
   "id": "dfeb6973",
   "metadata": {},
   "outputs": [],
   "source": [
    "mystr = 'Hallo ESA';\n",
    "mystr"
   ]
  },
  {
   "cell_type": "markdown",
   "id": "efceb258",
   "metadata": {},
   "source": [
    "## Structures as Variables\n",
    "\n",
    "* **Structures** are flexible and can host any data"
   ]
  },
  {
   "cell_type": "code",
   "execution_count": null,
   "id": "dc4439fd",
   "metadata": {},
   "outputs": [],
   "source": [
    "mystruct.ID    = 1;\n",
    "mystruct.value = 1.234567;\n",
    "mystruct.name  = 'Test';\n",
    "\n",
    "mystruct(2).ID    = 2;\n",
    "mystruct(2).value = 3.14;\n",
    "mystruct(2).name  = 'Test2';\n",
    "\n",
    "mystruct(1)\n",
    "mystruct(2)"
   ]
  },
  {
   "cell_type": "markdown",
   "id": "a73c5c90",
   "metadata": {},
   "source": [
    "## What Variables do I have?\n",
    "\n",
    "* Use the **`who`** command"
   ]
  },
  {
   "cell_type": "code",
   "execution_count": null,
   "id": "f9f460a5",
   "metadata": {},
   "outputs": [],
   "source": [
    "who\n",
    "whos"
   ]
  },
  {
   "cell_type": "markdown",
   "id": "37e63fde",
   "metadata": {},
   "source": [
    "## Operating on Numbers – Working with Complex Numbers\n",
    "\n",
    "* **Generate a complex number** `a = 2 + 1i`  \n",
    "* **Get the real/imag part**, magnitude and conjugate"
   ]
  },
  {
   "cell_type": "code",
   "execution_count": null,
   "id": "2168959c",
   "metadata": {},
   "outputs": [],
   "source": [
    "a = 2 + 1i;      % Avoid 1*i if you may have overwritten i\n",
    "real(a)\n",
    "imag(a)\n",
    "abs(a)\n",
    "conj(a)"
   ]
  },
  {
   "cell_type": "markdown",
   "id": "d8e67890",
   "metadata": {},
   "source": [
    "## Operating on Numbers – Rounding\n",
    "\n",
    "* **Rounding towards the nearest integer** – `round`  \n",
    "* **Rounding upwards** – `ceil`  \n",
    "* **Rounding downwards** – `floor`"
   ]
  },
  {
   "cell_type": "code",
   "execution_count": null,
   "id": "6ce22f37",
   "metadata": {},
   "outputs": [],
   "source": [
    "round(2.123)\n",
    "ceil(2.123)\n",
    "floor(2.912)"
   ]
  },
  {
   "cell_type": "markdown",
   "id": "593b86f0",
   "metadata": {},
   "source": [
    "## Working with Vectors\n",
    "\n",
    "* **Generate a linearly‑spaced vector**  \n",
    "\n",
    "Your homework:\n",
    "\n",
    "1. Read out the **odd entries** of the vector `v` *(1st, 3rd, 5th, …)*  \n",
    "2. Read out the **even entries** *(2nd, 4th, 6th, …)*  \n",
    "3. Generate a new **complex vector** whose real part is the odd entries and whose imaginary part is the even entries"
   ]
  },
  {
   "cell_type": "code",
   "execution_count": null,
   "id": "807a239c",
   "metadata": {},
   "outputs": [],
   "source": [
    "v = 0:0.1:1          % Start  Step  End\n",
    "odd_entries  = v(1:2:end)\n",
    "even_entries = v(2:2:end)\n",
    "complex_vec  = complex(odd_entries, even_entries)"
   ]
  },
  {
   "cell_type": "markdown",
   "id": "71b930d3",
   "metadata": {},
   "source": [
    "## Working with Matrices – Generate & Index\n",
    "\n",
    "* **Generate a matrix**  \n",
    "* **Call out row, column or sub‑matrix**  \n",
    "  * Always “row” first, then “column”  \n",
    "  * `:` operator can mean “all” or a specific range"
   ]
  },
  {
   "cell_type": "code",
   "execution_count": null,
   "id": "20d94193",
   "metadata": {},
   "outputs": [],
   "source": [
    "A = [1 2 3; 4 5 6; 7 8 9];\n",
    "\n",
    "A(2:3, 2:3)          % sub-matrix (rows 2-3, cols 2-3)\n",
    "A(1, :)              % first row\n",
    "A(:, 1)              % first column"
   ]
  },
  {
   "cell_type": "markdown",
   "id": "5a3ac115",
   "metadata": {},
   "source": [
    "## Working with Matrices – Transpose · Reshape · Repmat\n",
    "\n",
    "* **Transpose a matrix** – `A'`  \n",
    "* **Reshape a matrix** – `reshape(A, m, n)` *(reads column‑wise)*  \n",
    "* **Replicate and tile** – `repmat(A, p, q)`"
   ]
  },
  {
   "cell_type": "code",
   "execution_count": null,
   "id": "71d0c197",
   "metadata": {},
   "outputs": [],
   "source": [
    "A'\n",
    "reshape(A, 1, 9)\n",
    "repmat(A, 2, 3)"
   ]
  },
  {
   "cell_type": "markdown",
   "id": "a23c5164",
   "metadata": {},
   "source": [
    "## Working with Matrices – Delete Rows & Square\n",
    "\n",
    "* **Delete a row** – `A(3,:) = []`  \n",
    "* **Matrix squaring** (`A^2`) versus **element‑wise squaring** (`A.^2`)"
   ]
  },
  {
   "cell_type": "code",
   "execution_count": null,
   "id": "2eeafca7",
   "metadata": {},
   "outputs": [],
   "source": [
    "A(3,:) = [];      % delete 3rd row\n",
    "\n",
    "A^2                 % conventional product (A * A)\n",
    "A.^2                % square each element"
   ]
  },
  {
   "cell_type": "markdown",
   "id": "9bddc208",
   "metadata": {},
   "source": [
    "## Plotting Data – 2‑D Plot\n",
    "\n",
    "* `plot(x,y)` generates a **2‑D plot** with x‑axis vector `x` and y‑axis vector `y`  \n",
    "* Use `xlabel`, `ylabel`, `grid on` for annotation"
   ]
  },
  {
   "cell_type": "code",
   "execution_count": null,
   "id": "8fca9a00",
   "metadata": {},
   "outputs": [],
   "source": [
    "x = 0:0.1:2*pi;\n",
    "y = sin(x);\n",
    "figure; plot(x, y)\n",
    "xlabel('x'); ylabel('sin(x)'); grid on"
   ]
  },
  {
   "cell_type": "markdown",
   "id": "96a72f83",
   "metadata": {},
   "source": [
    "## Plotting Data – 3‑D Plot\n",
    "\n",
    "* `surf(X,Y,Z)` generates a **3‑D surface plot** over matrices `X`, `Y` and `Z`  \n",
    "* `[X,Y] = meshgrid(x,y)` returns a 2‑D grid derived from vectors `x` and `y`"
   ]
  },
  {
   "cell_type": "code",
   "execution_count": null,
   "id": "0be980a0",
   "metadata": {},
   "outputs": [],
   "source": [
    "x = 0:0.5:20;   y = 0:0.5:20;\n",
    "[X,Y] = meshgrid(x, y);\n",
    "Z = sin(X) + cos(Y);\n",
    "figure; surf(X, Y, Z)"
   ]
  },
  {
   "cell_type": "markdown",
   "id": "a6cd4792",
   "metadata": {},
   "source": [
    "## Programming – `for` Loop\n",
    "\n",
    "* **Task:** Generate a vector `B` where each element of `A = [1 2 3]` is repeated 5 times"
   ]
  },
  {
   "cell_type": "code",
   "execution_count": null,
   "id": "76e1002d",
   "metadata": {},
   "outputs": [],
   "source": [
    "A = [1 2 3];\n",
    "B = [];\n",
    "for i = 1:3\n",
    "  for j = 1:5\n",
    "    B = [B, A(i)];\n",
    "  end\n",
    "end\n",
    "B\n",
    "\n",
    "% Faster vectorised solution\n",
    "B_fast = reshape(repmat(A, 5, 1), 1, []);"
   ]
  },
  {
   "cell_type": "markdown",
   "id": "efdb1085",
   "metadata": {},
   "source": [
    "## Programming – `while` Loop\n",
    "\n",
    "* Syntax  \n",
    "  ```\n",
    "  while (condition)\n",
    "        body\n",
    "  end\n",
    "  ```  \n",
    "* Condition operators: `<  <=  ==  >  >=  ~=`"
   ]
  },
  {
   "cell_type": "code",
   "execution_count": null,
   "id": "c5befb27",
   "metadata": {},
   "outputs": [],
   "source": [
    "count = 0;\n",
    "while count < 5\n",
    "  fprintf('Count = %d\\n', count);\n",
    "  count += 1;\n",
    "end"
   ]
  },
  {
   "cell_type": "markdown",
   "id": "935caae1",
   "metadata": {},
   "source": [
    "## Scripts and Functions\n",
    "\n",
    "* **Scripts**  \n",
    "  * Sequence of commands stored as `.m` files (text files)  \n",
    "  * All variables created in a script remain in the workspace  \n",
    "* **Functions**  \n",
    "  * Called with **input arguments** and return **output arguments**  \n",
    "  * Stored as `.m` files (text files)  \n",
    "  * Functions have to start with the `function` keyword  \n",
    "\n",
    "(Inside a Jupyter notebook you can define the function in a cell; no separate file is needed unless you want to reuse it elsewhere.)"
   ]
  },
  {
   "cell_type": "code",
   "execution_count": null,
   "id": "92ea2a78",
   "metadata": {},
   "outputs": [],
   "source": [
    "function val = find_first_below_zero(v)\n",
    "  idx = find(v < 0);\n",
    "  val = v(idx(1));\n",
    "end\n",
    "\n",
    "v = randn(1, 10);\n",
    "find_first_below_zero(v)"
   ]
  },
  {
   "cell_type": "markdown",
   "id": "fdad56ba",
   "metadata": {},
   "source": [
    "## Summary\n",
    "\n",
    "* Octave is a **powerful, high‑level programming language – and it is FREE**  \n",
    "* There is **so much more to discover** than what we can cover in this short introduction – explore the official material of Octave."
   ]
  },
  {
   "cell_type": "markdown",
   "id": "1d394c28",
   "metadata": {},
   "source": [
    "## Useful Links\n",
    "\n",
    "* Octave Manual <https://docs.octave.org/latest/>  \n",
    "* Octave Tutorial <https://docs.octave.org/octave.pdf>"
   ]
  },
  {
   "cell_type": "markdown",
   "id": "abcb9349",
   "metadata": {},
   "source": [
    "## Homework – Fill in the blanks ✍️\n",
    "\n",
    "Use the template code cell below to complete the three tasks.\n",
    "\n",
    "* Read out the **odd entries** of the vector `v`, i.e. (1st, 3rd, 5th, …) entry  \n",
    "* Read out the **even entries** of the vector `v`, i.e. (2nd, 4th, 6th, …) entry  \n",
    "* Generate a new complex vector that carries the odd‑entries in the real part and the even‑entries in the imaginary part\n"
   ]
  },
  {
   "cell_type": "code",
   "execution_count": null,
   "id": "7dfd7aad",
   "metadata": {},
   "outputs": [],
   "source": [
    "% === Your solution here ===\n",
    "% Task 1: create vector v from -2 to 2 in steps of 0.25\n",
    "v = ____;              % TODO\n",
    "\n",
    "% Task 2: extract odd and even positions\n",
    "odd_entries  = v(____:____:____);   % TODO\n",
    "even_entries = v(____:____:____);   % TODO\n",
    "\n",
    "% Task 3: build complex vector\n",
    "complex_vec = complex(____, ____);  % TODO\n",
    "\n",
    "disp(complex_vec)\n"
   ]
  }
 ],
 "metadata": {
  "kernelspec": {
   "display_name": "Octave",
   "language": "octave",
   "name": "octave"
  }
 },
 "nbformat": 4,
 "nbformat_minor": 5
}
